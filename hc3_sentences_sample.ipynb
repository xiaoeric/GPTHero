{
 "cells": [
  {
   "cell_type": "code",
   "execution_count": 1,
   "metadata": {},
   "outputs": [],
   "source": [
    "import pandas as pd"
   ]
  },
  {
   "cell_type": "code",
   "execution_count": 2,
   "metadata": {},
   "outputs": [],
   "source": [
    "hc3_all_sentences_df = pd.read_csv('hc3_all_sentences_preds.csv')\n",
    "hc3_all_sentences_df['pred_label'] = hc3_all_sentences_df['pred'].map({'Human':0, 'ChatGPT':1})"
   ]
  },
  {
   "cell_type": "code",
   "execution_count": 3,
   "metadata": {},
   "outputs": [],
   "source": [
    "def true_negatives(data):\n",
    "    return (data['label']==0) & (data['pred_label']==0)\n",
    "\n",
    "def false_positives(data):\n",
    "    return (data['label']==0) & (data['pred_label']==1)\n",
    "\n",
    "def false_negatives(data):\n",
    "    return (data['label']==1) & (data['pred_label']==0)\n",
    "\n",
    "def true_positives(data):\n",
    "    return (data['label']==1) & (data['pred_label']==1)"
   ]
  },
  {
   "cell_type": "code",
   "execution_count": 5,
   "metadata": {},
   "outputs": [],
   "source": [
    "outcomes = [true_negatives, false_positives, false_negatives, true_positives]\n",
    "dfs = []\n",
    "for outcome in outcomes:\n",
    "    outcome_df = hc3_all_sentences_df[outcome(hc3_all_sentences_df)]\n",
    "    outcome_text = outcome_df['text']\n",
    "    sample = outcome_text.sample(n=20)\n",
    "    sample.to_csv(f'hc3_sentences_{outcome.__name__}.csv')\n",
    "    "
   ]
  },
  {
   "cell_type": "code",
   "execution_count": null,
   "metadata": {},
   "outputs": [],
   "source": []
  }
 ],
 "metadata": {
  "kernelspec": {
   "display_name": ".venv",
   "language": "python",
   "name": "python3"
  },
  "language_info": {
   "codemirror_mode": {
    "name": "ipython",
    "version": 3
   },
   "file_extension": ".py",
   "mimetype": "text/x-python",
   "name": "python",
   "nbconvert_exporter": "python",
   "pygments_lexer": "ipython3",
   "version": "3.10.1"
  },
  "orig_nbformat": 4
 },
 "nbformat": 4,
 "nbformat_minor": 2
}

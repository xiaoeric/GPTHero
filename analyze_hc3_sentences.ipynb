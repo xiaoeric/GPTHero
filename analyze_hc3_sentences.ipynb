{
 "cells": [
  {
   "cell_type": "code",
   "execution_count": 1,
   "metadata": {},
   "outputs": [],
   "source": [
    "import pandas as pd"
   ]
  },
  {
   "cell_type": "code",
   "execution_count": 2,
   "metadata": {},
   "outputs": [],
   "source": [
    "hc3_all_sentences_df = pd.read_csv('hc3_all_sentences_preds.csv')"
   ]
  },
  {
   "cell_type": "code",
   "execution_count": 3,
   "metadata": {},
   "outputs": [
    {
     "data": {
      "text/html": [
       "<div>\n",
       "<style scoped>\n",
       "    .dataframe tbody tr th:only-of-type {\n",
       "        vertical-align: middle;\n",
       "    }\n",
       "\n",
       "    .dataframe tbody tr th {\n",
       "        vertical-align: top;\n",
       "    }\n",
       "\n",
       "    .dataframe thead th {\n",
       "        text-align: right;\n",
       "    }\n",
       "</style>\n",
       "<table border=\"1\" class=\"dataframe\">\n",
       "  <thead>\n",
       "    <tr style=\"text-align: right;\">\n",
       "      <th></th>\n",
       "      <th>Unnamed: 0.1</th>\n",
       "      <th>Unnamed: 0</th>\n",
       "      <th>label</th>\n",
       "      <th>text</th>\n",
       "      <th>data_idx</th>\n",
       "      <th>pred</th>\n",
       "      <th>pred_score</th>\n",
       "    </tr>\n",
       "  </thead>\n",
       "  <tbody>\n",
       "    <tr>\n",
       "      <th>0</th>\n",
       "      <td>0</td>\n",
       "      <td>0</td>\n",
       "      <td>0</td>\n",
       "      <td>Basically there are many categories of \" Best ...</td>\n",
       "      <td>0</td>\n",
       "      <td>Human</td>\n",
       "      <td>0.999755</td>\n",
       "    </tr>\n",
       "    <tr>\n",
       "      <th>1</th>\n",
       "      <td>1</td>\n",
       "      <td>1</td>\n",
       "      <td>0</td>\n",
       "      <td>Replace \" Best Seller \" by something like \" Os...</td>\n",
       "      <td>0</td>\n",
       "      <td>Human</td>\n",
       "      <td>0.999756</td>\n",
       "    </tr>\n",
       "    <tr>\n",
       "      <th>2</th>\n",
       "      <td>2</td>\n",
       "      <td>2</td>\n",
       "      <td>0</td>\n",
       "      <td>May not have won the \" Best film \" , but even ...</td>\n",
       "      <td>0</td>\n",
       "      <td>Human</td>\n",
       "      <td>0.999754</td>\n",
       "    </tr>\n",
       "    <tr>\n",
       "      <th>3</th>\n",
       "      <td>3</td>\n",
       "      <td>3</td>\n",
       "      <td>0</td>\n",
       "      <td>Same thing for best sellers .</td>\n",
       "      <td>0</td>\n",
       "      <td>Human</td>\n",
       "      <td>0.999755</td>\n",
       "    </tr>\n",
       "    <tr>\n",
       "      <th>4</th>\n",
       "      <td>4</td>\n",
       "      <td>4</td>\n",
       "      <td>0</td>\n",
       "      <td>Also , IIRC the rankings change every week or ...</td>\n",
       "      <td>0</td>\n",
       "      <td>Human</td>\n",
       "      <td>0.999753</td>\n",
       "    </tr>\n",
       "  </tbody>\n",
       "</table>\n",
       "</div>"
      ],
      "text/plain": [
       "   Unnamed: 0.1  Unnamed: 0  label  \\\n",
       "0             0           0      0   \n",
       "1             1           1      0   \n",
       "2             2           2      0   \n",
       "3             3           3      0   \n",
       "4             4           4      0   \n",
       "\n",
       "                                                text  data_idx   pred  \\\n",
       "0  Basically there are many categories of \" Best ...         0  Human   \n",
       "1  Replace \" Best Seller \" by something like \" Os...         0  Human   \n",
       "2  May not have won the \" Best film \" , but even ...         0  Human   \n",
       "3                      Same thing for best sellers .         0  Human   \n",
       "4  Also , IIRC the rankings change every week or ...         0  Human   \n",
       "\n",
       "   pred_score  \n",
       "0    0.999755  \n",
       "1    0.999756  \n",
       "2    0.999754  \n",
       "3    0.999755  \n",
       "4    0.999753  "
      ]
     },
     "execution_count": 3,
     "metadata": {},
     "output_type": "execute_result"
    }
   ],
   "source": [
    "hc3_all_sentences_df.head()"
   ]
  },
  {
   "cell_type": "code",
   "execution_count": 4,
   "metadata": {},
   "outputs": [],
   "source": [
    "hc3_all_sentences_df['pred_label'] = hc3_all_sentences_df['pred'].map({'Human':0, 'ChatGPT':1})"
   ]
  },
  {
   "cell_type": "code",
   "execution_count": 5,
   "metadata": {},
   "outputs": [
    {
     "data": {
      "text/html": [
       "<div>\n",
       "<style scoped>\n",
       "    .dataframe tbody tr th:only-of-type {\n",
       "        vertical-align: middle;\n",
       "    }\n",
       "\n",
       "    .dataframe tbody tr th {\n",
       "        vertical-align: top;\n",
       "    }\n",
       "\n",
       "    .dataframe thead th {\n",
       "        text-align: right;\n",
       "    }\n",
       "</style>\n",
       "<table border=\"1\" class=\"dataframe\">\n",
       "  <thead>\n",
       "    <tr style=\"text-align: right;\">\n",
       "      <th></th>\n",
       "      <th>Unnamed: 0.1</th>\n",
       "      <th>Unnamed: 0</th>\n",
       "      <th>label</th>\n",
       "      <th>text</th>\n",
       "      <th>data_idx</th>\n",
       "      <th>pred</th>\n",
       "      <th>pred_score</th>\n",
       "      <th>pred_label</th>\n",
       "    </tr>\n",
       "  </thead>\n",
       "  <tbody>\n",
       "    <tr>\n",
       "      <th>0</th>\n",
       "      <td>0</td>\n",
       "      <td>0</td>\n",
       "      <td>0</td>\n",
       "      <td>Basically there are many categories of \" Best ...</td>\n",
       "      <td>0</td>\n",
       "      <td>Human</td>\n",
       "      <td>0.999755</td>\n",
       "      <td>0</td>\n",
       "    </tr>\n",
       "    <tr>\n",
       "      <th>1</th>\n",
       "      <td>1</td>\n",
       "      <td>1</td>\n",
       "      <td>0</td>\n",
       "      <td>Replace \" Best Seller \" by something like \" Os...</td>\n",
       "      <td>0</td>\n",
       "      <td>Human</td>\n",
       "      <td>0.999756</td>\n",
       "      <td>0</td>\n",
       "    </tr>\n",
       "    <tr>\n",
       "      <th>2</th>\n",
       "      <td>2</td>\n",
       "      <td>2</td>\n",
       "      <td>0</td>\n",
       "      <td>May not have won the \" Best film \" , but even ...</td>\n",
       "      <td>0</td>\n",
       "      <td>Human</td>\n",
       "      <td>0.999754</td>\n",
       "      <td>0</td>\n",
       "    </tr>\n",
       "    <tr>\n",
       "      <th>3</th>\n",
       "      <td>3</td>\n",
       "      <td>3</td>\n",
       "      <td>0</td>\n",
       "      <td>Same thing for best sellers .</td>\n",
       "      <td>0</td>\n",
       "      <td>Human</td>\n",
       "      <td>0.999755</td>\n",
       "      <td>0</td>\n",
       "    </tr>\n",
       "    <tr>\n",
       "      <th>4</th>\n",
       "      <td>4</td>\n",
       "      <td>4</td>\n",
       "      <td>0</td>\n",
       "      <td>Also , IIRC the rankings change every week or ...</td>\n",
       "      <td>0</td>\n",
       "      <td>Human</td>\n",
       "      <td>0.999753</td>\n",
       "      <td>0</td>\n",
       "    </tr>\n",
       "  </tbody>\n",
       "</table>\n",
       "</div>"
      ],
      "text/plain": [
       "   Unnamed: 0.1  Unnamed: 0  label  \\\n",
       "0             0           0      0   \n",
       "1             1           1      0   \n",
       "2             2           2      0   \n",
       "3             3           3      0   \n",
       "4             4           4      0   \n",
       "\n",
       "                                                text  data_idx   pred  \\\n",
       "0  Basically there are many categories of \" Best ...         0  Human   \n",
       "1  Replace \" Best Seller \" by something like \" Os...         0  Human   \n",
       "2  May not have won the \" Best film \" , but even ...         0  Human   \n",
       "3                      Same thing for best sellers .         0  Human   \n",
       "4  Also , IIRC the rankings change every week or ...         0  Human   \n",
       "\n",
       "   pred_score  pred_label  \n",
       "0    0.999755           0  \n",
       "1    0.999756           0  \n",
       "2    0.999754           0  \n",
       "3    0.999755           0  \n",
       "4    0.999753           0  "
      ]
     },
     "execution_count": 5,
     "metadata": {},
     "output_type": "execute_result"
    }
   ],
   "source": [
    "hc3_all_sentences_df.head()"
   ]
  },
  {
   "cell_type": "code",
   "execution_count": null,
   "metadata": {},
   "outputs": [],
   "source": []
  },
  {
   "cell_type": "code",
   "execution_count": 6,
   "metadata": {},
   "outputs": [],
   "source": [
    "incorrect_preds_df = hc3_all_sentences_df[hc3_all_sentences_df['label'] != hc3_all_sentences_df['pred_label']]"
   ]
  },
  {
   "cell_type": "code",
   "execution_count": 7,
   "metadata": {},
   "outputs": [
    {
     "data": {
      "text/html": [
       "<div>\n",
       "<style scoped>\n",
       "    .dataframe tbody tr th:only-of-type {\n",
       "        vertical-align: middle;\n",
       "    }\n",
       "\n",
       "    .dataframe tbody tr th {\n",
       "        vertical-align: top;\n",
       "    }\n",
       "\n",
       "    .dataframe thead th {\n",
       "        text-align: right;\n",
       "    }\n",
       "</style>\n",
       "<table border=\"1\" class=\"dataframe\">\n",
       "  <thead>\n",
       "    <tr style=\"text-align: right;\">\n",
       "      <th></th>\n",
       "      <th>Unnamed: 0.1</th>\n",
       "      <th>Unnamed: 0</th>\n",
       "      <th>label</th>\n",
       "      <th>text</th>\n",
       "      <th>data_idx</th>\n",
       "      <th>pred</th>\n",
       "      <th>pred_score</th>\n",
       "      <th>pred_label</th>\n",
       "    </tr>\n",
       "  </thead>\n",
       "  <tbody>\n",
       "    <tr>\n",
       "      <th>68</th>\n",
       "      <td>68</td>\n",
       "      <td>68</td>\n",
       "      <td>1</td>\n",
       "      <td>2.</td>\n",
       "      <td>2</td>\n",
       "      <td>Human</td>\n",
       "      <td>0.999184</td>\n",
       "      <td>0</td>\n",
       "    </tr>\n",
       "    <tr>\n",
       "      <th>71</th>\n",
       "      <td>71</td>\n",
       "      <td>71</td>\n",
       "      <td>1</td>\n",
       "      <td>3.</td>\n",
       "      <td>2</td>\n",
       "      <td>Human</td>\n",
       "      <td>0.998909</td>\n",
       "      <td>0</td>\n",
       "    </tr>\n",
       "    <tr>\n",
       "      <th>399</th>\n",
       "      <td>399</td>\n",
       "      <td>399</td>\n",
       "      <td>1</td>\n",
       "      <td>2.</td>\n",
       "      <td>12</td>\n",
       "      <td>Human</td>\n",
       "      <td>0.999184</td>\n",
       "      <td>0</td>\n",
       "    </tr>\n",
       "    <tr>\n",
       "      <th>403</th>\n",
       "      <td>403</td>\n",
       "      <td>403</td>\n",
       "      <td>1</td>\n",
       "      <td>3.</td>\n",
       "      <td>12</td>\n",
       "      <td>Human</td>\n",
       "      <td>0.998909</td>\n",
       "      <td>0</td>\n",
       "    </tr>\n",
       "    <tr>\n",
       "      <th>407</th>\n",
       "      <td>407</td>\n",
       "      <td>407</td>\n",
       "      <td>1</td>\n",
       "      <td>4.</td>\n",
       "      <td>12</td>\n",
       "      <td>Human</td>\n",
       "      <td>0.999173</td>\n",
       "      <td>0</td>\n",
       "    </tr>\n",
       "  </tbody>\n",
       "</table>\n",
       "</div>"
      ],
      "text/plain": [
       "     Unnamed: 0.1  Unnamed: 0  label text  data_idx   pred  pred_score  \\\n",
       "68             68          68      1   2.         2  Human    0.999184   \n",
       "71             71          71      1   3.         2  Human    0.998909   \n",
       "399           399         399      1   2.        12  Human    0.999184   \n",
       "403           403         403      1   3.        12  Human    0.998909   \n",
       "407           407         407      1   4.        12  Human    0.999173   \n",
       "\n",
       "     pred_label  \n",
       "68            0  \n",
       "71            0  \n",
       "399           0  \n",
       "403           0  \n",
       "407           0  "
      ]
     },
     "execution_count": 7,
     "metadata": {},
     "output_type": "execute_result"
    }
   ],
   "source": [
    "incorrect_preds_df.head()"
   ]
  },
  {
   "cell_type": "code",
   "execution_count": 8,
   "metadata": {},
   "outputs": [
    {
     "data": {
      "text/plain": [
       "9203"
      ]
     },
     "execution_count": 8,
     "metadata": {},
     "output_type": "execute_result"
    }
   ],
   "source": [
    "len(incorrect_preds_df)"
   ]
  },
  {
   "cell_type": "code",
   "execution_count": 9,
   "metadata": {},
   "outputs": [],
   "source": [
    "incorrect_preds_df.to_csv('hc3_all_sentences_incorrect_preds.csv')"
   ]
  },
  {
   "cell_type": "code",
   "execution_count": 10,
   "metadata": {},
   "outputs": [
    {
     "data": {
      "text/plain": [
       "947"
      ]
     },
     "execution_count": 10,
     "metadata": {},
     "output_type": "execute_result"
    }
   ],
   "source": [
    "len(incorrect_preds_df[incorrect_preds_df['text'].str.fullmatch('[0-9]\\.')])"
   ]
  },
  {
   "cell_type": "code",
   "execution_count": 11,
   "metadata": {},
   "outputs": [],
   "source": [
    "incorrect_preds_no_enums_df = incorrect_preds_df[~incorrect_preds_df['text'].str.fullmatch('[0-9]\\.')]"
   ]
  },
  {
   "cell_type": "code",
   "execution_count": 12,
   "metadata": {},
   "outputs": [
    {
     "data": {
      "text/html": [
       "<div>\n",
       "<style scoped>\n",
       "    .dataframe tbody tr th:only-of-type {\n",
       "        vertical-align: middle;\n",
       "    }\n",
       "\n",
       "    .dataframe tbody tr th {\n",
       "        vertical-align: top;\n",
       "    }\n",
       "\n",
       "    .dataframe thead th {\n",
       "        text-align: right;\n",
       "    }\n",
       "</style>\n",
       "<table border=\"1\" class=\"dataframe\">\n",
       "  <thead>\n",
       "    <tr style=\"text-align: right;\">\n",
       "      <th></th>\n",
       "      <th>Unnamed: 0.1</th>\n",
       "      <th>Unnamed: 0</th>\n",
       "      <th>label</th>\n",
       "      <th>text</th>\n",
       "      <th>data_idx</th>\n",
       "      <th>pred</th>\n",
       "      <th>pred_score</th>\n",
       "      <th>pred_label</th>\n",
       "    </tr>\n",
       "  </thead>\n",
       "  <tbody>\n",
       "    <tr>\n",
       "      <th>346136</th>\n",
       "      <td>346136</td>\n",
       "      <td>346136</td>\n",
       "      <td>0</td>\n",
       "      <td>!</td>\n",
       "      <td>13160</td>\n",
       "      <td>ChatGPT</td>\n",
       "      <td>0.967111</td>\n",
       "      <td>1</td>\n",
       "    </tr>\n",
       "    <tr>\n",
       "      <th>505080</th>\n",
       "      <td>505080</td>\n",
       "      <td>505080</td>\n",
       "      <td>0</td>\n",
       "      <td>The current price and P/L data can be function...</td>\n",
       "      <td>20162</td>\n",
       "      <td>ChatGPT</td>\n",
       "      <td>0.864663</td>\n",
       "      <td>1</td>\n",
       "    </tr>\n",
       "    <tr>\n",
       "      <th>260077</th>\n",
       "      <td>260077</td>\n",
       "      <td>260077</td>\n",
       "      <td>1</td>\n",
       "      <td>The exact amount that you leave is up to you, ...</td>\n",
       "      <td>9485</td>\n",
       "      <td>Human</td>\n",
       "      <td>0.899303</td>\n",
       "      <td>0</td>\n",
       "    </tr>\n",
       "    <tr>\n",
       "      <th>555560</th>\n",
       "      <td>555560</td>\n",
       "      <td>555560</td>\n",
       "      <td>0</td>\n",
       "      <td>It results from the proliferation of astrocyte...</td>\n",
       "      <td>23403</td>\n",
       "      <td>ChatGPT</td>\n",
       "      <td>0.915215</td>\n",
       "      <td>1</td>\n",
       "    </tr>\n",
       "    <tr>\n",
       "      <th>505182</th>\n",
       "      <td>505182</td>\n",
       "      <td>505182</td>\n",
       "      <td>0</td>\n",
       "      <td>Once you take this approach, you might find yo...</td>\n",
       "      <td>20169</td>\n",
       "      <td>ChatGPT</td>\n",
       "      <td>0.951013</td>\n",
       "      <td>1</td>\n",
       "    </tr>\n",
       "  </tbody>\n",
       "</table>\n",
       "</div>"
      ],
      "text/plain": [
       "        Unnamed: 0.1  Unnamed: 0  label  \\\n",
       "346136        346136      346136      0   \n",
       "505080        505080      505080      0   \n",
       "260077        260077      260077      1   \n",
       "555560        555560      555560      0   \n",
       "505182        505182      505182      0   \n",
       "\n",
       "                                                     text  data_idx     pred  \\\n",
       "346136                                                  !     13160  ChatGPT   \n",
       "505080  The current price and P/L data can be function...     20162  ChatGPT   \n",
       "260077  The exact amount that you leave is up to you, ...      9485    Human   \n",
       "555560  It results from the proliferation of astrocyte...     23403  ChatGPT   \n",
       "505182  Once you take this approach, you might find yo...     20169  ChatGPT   \n",
       "\n",
       "        pred_score  pred_label  \n",
       "346136    0.967111           1  \n",
       "505080    0.864663           1  \n",
       "260077    0.899303           0  \n",
       "555560    0.915215           1  \n",
       "505182    0.951013           1  "
      ]
     },
     "execution_count": 12,
     "metadata": {},
     "output_type": "execute_result"
    }
   ],
   "source": [
    "incorrect_preds_no_enums_df.sample(n=5)"
   ]
  },
  {
   "cell_type": "code",
   "execution_count": 13,
   "metadata": {},
   "outputs": [],
   "source": [
    "import matplotlib.pyplot as plt\n",
    "from sklearn.metrics import ConfusionMatrixDisplay"
   ]
  },
  {
   "cell_type": "code",
   "execution_count": 14,
   "metadata": {},
   "outputs": [
    {
     "data": {
      "image/png": "[encoded data removed]",
      "text/plain": [
       "<Figure size 640x480 with 2 Axes>"
      ]
     },
     "metadata": {},
     "output_type": "display_data"
    }
   ],
   "source": [
    "ConfusionMatrixDisplay.from_predictions(hc3_all_sentences_df['label'], hc3_all_sentences_df['pred_label'])\n",
    "plt.show()"
   ]
  },
  {
   "cell_type": "code",
   "execution_count": 15,
   "metadata": {},
   "outputs": [
    {
     "data": {
      "image/png": "[encoded data removed]",
      "text/plain": [
       "<Figure size 640x480 with 1 Axes>"
      ]
     },
     "metadata": {},
     "output_type": "display_data"
    }
   ],
   "source": [
    "num_bins=512\n",
    "plt.hist(hc3_all_sentences_df['text'].map(len), num_bins, color='green')\n",
    "plt.xlim((0,512))\n",
    "plt.show()"
   ]
  },
  {
   "cell_type": "code",
   "execution_count": 35,
   "metadata": {},
   "outputs": [
    {
     "data": {
      "image/png": "[encoded data removed]",
      "text/plain": [
       "<Figure size 640x480 with 1 Axes>"
      ]
     },
     "metadata": {},
     "output_type": "display_data"
    }
   ],
   "source": [
    "human_df = hc3_all_sentences_df[hc3_all_sentences_df['label']==0]\n",
    "chatgpt_df = hc3_all_sentences_df[hc3_all_sentences_df['label']==1]\n",
    "colors = ['cornflowerblue', 'mediumseagreen']\n",
    "labels = ['human', 'chatgpt']\n",
    "plt.hist(\n",
    "    [human_df['text'].map(len), chatgpt_df['text'].map(len)], \n",
    "    500, \n",
    "    color=colors, \n",
    "    label=labels,\n",
    "    fill=False,\n",
    "    histtype='step',\n",
    "    density=True,\n",
    ")\n",
    "plt.xlim((0,500))\n",
    "plt.legend()\n",
    "plt.xlabel('length')\n",
    "plt.ylabel('probability density')\n",
    "plt.show()"
   ]
  },
  {
   "cell_type": "code",
   "execution_count": 31,
   "metadata": {},
   "outputs": [
    {
     "data": {
      "image/png": "[encoded data removed]",
      "text/plain": [
       "<Figure size 640x480 with 1 Axes>"
      ]
     },
     "metadata": {},
     "output_type": "display_data"
    }
   ],
   "source": [
    "tn_df = hc3_all_sentences_df[(hc3_all_sentences_df['label']==0) & (hc3_all_sentences_df['pred_label']==0)]\n",
    "fp_df = hc3_all_sentences_df[(hc3_all_sentences_df['label']==0) & (hc3_all_sentences_df['pred_label']==1)]\n",
    "fn_df = hc3_all_sentences_df[(hc3_all_sentences_df['label']==1) & (hc3_all_sentences_df['pred_label']==0)]\n",
    "tp_df = hc3_all_sentences_df[(hc3_all_sentences_df['label']==1) & (hc3_all_sentences_df['pred_label']==1)]\n",
    "colors = ['cornflowerblue', 'sandybrown', 'mediumpurple', 'mediumseagreen']\n",
    "labels = ['true neg', 'false pos', 'false neg', 'true pos']\n",
    "plt.hist(\n",
    "    [tn_df['text'].map(len), fp_df['text'].map(len), fn_df['text'].map(len), tp_df['text'].map(len)], \n",
    "    500, \n",
    "    color=colors, \n",
    "    label=labels,\n",
    "    fill=False,\n",
    "    histtype='step',\n",
    "    density=True,\n",
    ")\n",
    "plt.xlim((0,500))\n",
    "plt.legend()\n",
    "plt.xlabel('length')\n",
    "plt.ylabel('probability density')\n",
    "plt.show()"
   ]
  },
  {
   "cell_type": "code",
   "execution_count": 32,
   "metadata": {},
   "outputs": [],
   "source": [
    "def true_negatives(data):\n",
    "    return (data['label']==0) & (data['pred_label']==0)\n",
    "\n",
    "def false_positives(data):\n",
    "    return (data['label']==0) & (data['pred_label']==1)\n",
    "\n",
    "def false_negatives(data):\n",
    "    return (data['label']==1) & (data['pred_label']==0)\n",
    "\n",
    "def true_positives(data):\n",
    "    return (data['label']==1) & (data['pred_label']==1)\n",
    "\n",
    "def compare_hist(data, conditions, metric, colors, labels, xlabel=\"\", title=\"\", **kwargs):\n",
    "    dfs = [data[cond(data)] for cond in conditions]\n",
    "    plt.hist(\n",
    "        [df['text'].map(metric) for df in dfs],\n",
    "        500,\n",
    "        color=colors,\n",
    "        label=labels,\n",
    "        **kwargs\n",
    "    )\n",
    "    plt.xlim((0,500))\n",
    "    plt.legend()\n",
    "    plt.xlabel(xlabel)\n",
    "    plt.ylabel('probability density')\n",
    "    plt.title(title)\n",
    "    plt.show()"
   ]
  },
  {
   "cell_type": "code",
   "execution_count": 33,
   "metadata": {},
   "outputs": [
    {
     "data": {
      "image/png": "[encoded data removed]",
      "text/plain": [
       "<Figure size 640x480 with 1 Axes>"
      ]
     },
     "metadata": {},
     "output_type": "display_data"
    }
   ],
   "source": [
    "hc3_all_sentences_noenums_df = hc3_all_sentences_df[~hc3_all_sentences_df['text'].str.fullmatch('[0-9]\\.')]\n",
    "colors = ['cornflowerblue', 'sandybrown', 'mediumpurple', 'mediumseagreen']\n",
    "labels = ['true neg', 'false pos', 'false neg', 'true pos']\n",
    "compare_hist(\n",
    "    hc3_all_sentences_noenums_df,\n",
    "    [true_negatives, false_positives, false_negatives, true_positives],\n",
    "    len,\n",
    "    colors,\n",
    "    labels,\n",
    "    fill=False,\n",
    "    histtype='step',\n",
    "    density=True,\n",
    "    xlabel='length',\n",
    "    title='without enums',\n",
    ")"
   ]
  },
  {
   "cell_type": "code",
   "execution_count": 40,
   "metadata": {},
   "outputs": [],
   "source": [
    "import numpy as np\n",
    "\n",
    "def compare_hist_gltr(data, conditions, metric, colors, labels, **kwargs):\n",
    "    dfs = [data[cond(data)] for cond in conditions]\n",
    "    metrics = [df['token_rankings'].map(metric) for df in dfs]\n",
    "    plt.hist(\n",
    "        metrics,\n",
    "        num_bins,\n",
    "        color=colors,\n",
    "        label=labels,\n",
    "        **kwargs\n",
    "    )\n",
    "    plt.legend()\n",
    "    plt.show()\n",
    "\n",
    "def get_rankings(real_topk):\n",
    "    return list(map(lambda t: t[0], real_topk))"
   ]
  },
  {
   "cell_type": "code",
   "execution_count": 33,
   "metadata": {},
   "outputs": [
    {
     "data": {
      "text/plain": [
       "[2127, 11, 0]"
      ]
     },
     "execution_count": 33,
     "metadata": {},
     "output_type": "execute_result"
    }
   ],
   "source": [
    "get_rankings([(2127, 6e-05), (11, 0.00866), (0, 0.35426)])"
   ]
  },
  {
   "cell_type": "code",
   "execution_count": 31,
   "metadata": {},
   "outputs": [
    {
     "data": {
      "text/plain": [
       "Unnamed: 0.1                                                      0\n",
       "Unnamed: 0                                                        0\n",
       "label                                                             0\n",
       "text              Basically there are many categories of \" Best ...\n",
       "data_idx                                                          0\n",
       "pred                                                          Human\n",
       "pred_score                                                 0.999755\n",
       "pred_label                                                        0\n",
       "real_topk         [(2127, 6e-05), (11, 0.00866), (0, 0.35426), (...\n",
       "token_rankings          [2127, 11, 0, 7, 63, 0, 2, 10322, 8, 0, 33]\n",
       "Name: 0, dtype: object"
      ]
     },
     "execution_count": 31,
     "metadata": {},
     "output_type": "execute_result"
    }
   ],
   "source": [
    "hc3_all_sentences_test_df['token_rankings'] = hc3_all_sentences_test_df['real_topk'].map(get_rankings)\n",
    "hc3_all_sentences_test_df.iloc[0]"
   ]
  },
  {
   "cell_type": "code",
   "execution_count": 29,
   "metadata": {},
   "outputs": [
    {
     "ename": "NameError",
     "evalue": "name 'hc3_all_sentences_test_df' is not defined",
     "output_type": "error",
     "traceback": [
      "\u001b[1;31m---------------------------------------------------------------------------\u001b[0m",
      "\u001b[1;31mNameError\u001b[0m                                 Traceback (most recent call last)",
      "Cell \u001b[1;32mIn[29], line 1\u001b[0m\n\u001b[1;32m----> 1\u001b[0m hc3_all_sentences_test_noenums_df \u001b[39m=\u001b[39m hc3_all_sentences_test_df[\u001b[39m~\u001b[39mhc3_all_sentences_test_df[\u001b[39m'\u001b[39m\u001b[39mtext\u001b[39m\u001b[39m'\u001b[39m]\u001b[39m.\u001b[39mstr\u001b[39m.\u001b[39mfullmatch(\u001b[39m'\u001b[39m\u001b[39m[0-9]\u001b[39m\u001b[39m\\\u001b[39m\u001b[39m.\u001b[39m\u001b[39m'\u001b[39m)]\n\u001b[0;32m      2\u001b[0m colors \u001b[39m=\u001b[39m [\u001b[39m'\u001b[39m\u001b[39mcornflowerblue\u001b[39m\u001b[39m'\u001b[39m, \u001b[39m'\u001b[39m\u001b[39msandybrown\u001b[39m\u001b[39m'\u001b[39m, \u001b[39m'\u001b[39m\u001b[39mmediumpurple\u001b[39m\u001b[39m'\u001b[39m, \u001b[39m'\u001b[39m\u001b[39mmediumseagreen\u001b[39m\u001b[39m'\u001b[39m]\n\u001b[0;32m      3\u001b[0m labels \u001b[39m=\u001b[39m [\u001b[39m'\u001b[39m\u001b[39mtrue neg\u001b[39m\u001b[39m'\u001b[39m, \u001b[39m'\u001b[39m\u001b[39mfalse pos\u001b[39m\u001b[39m'\u001b[39m, \u001b[39m'\u001b[39m\u001b[39mfalse neg\u001b[39m\u001b[39m'\u001b[39m, \u001b[39m'\u001b[39m\u001b[39mtrue pos\u001b[39m\u001b[39m'\u001b[39m]\n",
      "\u001b[1;31mNameError\u001b[0m: name 'hc3_all_sentences_test_df' is not defined"
     ]
    }
   ],
   "source": [
    "hc3_all_sentences_test_noenums_df = hc3_all_sentences_test_df[~hc3_all_sentences_test_df['text'].str.fullmatch('[0-9]\\.')]\n",
    "colors = ['cornflowerblue', 'sandybrown', 'mediumpurple', 'mediumseagreen']\n",
    "labels = ['true neg', 'false pos', 'false neg', 'true pos']\n",
    "compare_hist_gltr(\n",
    "    hc3_all_sentences_test_noenums_df,\n",
    "    [true_negatives, false_positives, false_negatives, true_positives],\n",
    "    np.mean,\n",
    "    colors,\n",
    "    labels,\n",
    "    fill=False,\n",
    "    histtype='step',\n",
    "    density=True,\n",
    ")"
   ]
  },
  {
   "cell_type": "code",
   "execution_count": null,
   "metadata": {},
   "outputs": [],
   "source": []
  }
 ],
 "metadata": {
  "kernelspec": {
   "display_name": ".venv",
   "language": "python",
   "name": "python3"
  },
  "language_info": {
   "codemirror_mode": {
    "name": "ipython",
    "version": 3
   },
   "file_extension": ".py",
   "mimetype": "text/x-python",
   "name": "python",
   "nbconvert_exporter": "python",
   "pygments_lexer": "ipython3",
   "version": "3.10.1"
  },
  "orig_nbformat": 4
 },
 "nbformat": 4,
 "nbformat_minor": 2
}

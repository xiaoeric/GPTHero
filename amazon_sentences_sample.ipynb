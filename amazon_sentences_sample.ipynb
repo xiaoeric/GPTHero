{
 "cells": [
  {
   "cell_type": "code",
   "execution_count": 1,
   "metadata": {},
   "outputs": [],
   "source": [
    "import pandas as pd"
   ]
  },
  {
   "cell_type": "code",
   "execution_count": 3,
   "metadata": {},
   "outputs": [],
   "source": [
    "amazon_sentences_df = pd.read_csv('amazon_v0_sentences_preds.csv')"
   ]
  },
  {
   "cell_type": "code",
   "execution_count": 4,
   "metadata": {},
   "outputs": [],
   "source": [
    "def true_negatives(data):\n",
    "    return (data['label']==0) & (data['pred']==0)\n",
    "\n",
    "def false_positives(data):\n",
    "    return (data['label']==0) & (data['pred']==1)\n",
    "\n",
    "def false_negatives(data):\n",
    "    return (data['label']==1) & (data['pred']==0)\n",
    "\n",
    "def true_positives(data):\n",
    "    return (data['label']==1) & (data['pred']==1)"
   ]
  },
  {
   "cell_type": "code",
   "execution_count": 5,
   "metadata": {},
   "outputs": [],
   "source": [
    "outcomes = [true_negatives, false_positives, false_negatives, true_positives]\n",
    "dfs = []\n",
    "for outcome in outcomes:\n",
    "    outcome_df = amazon_sentences_df[outcome(amazon_sentences_df)]\n",
    "    outcome_text = outcome_df['text']\n",
    "    sample = outcome_text.sample(n=20)\n",
    "    sample.to_csv(f'amazon_v0_sentences_{outcome.__name__}.csv')\n",
    "    "
   ]
  },
  {
   "cell_type": "code",
   "execution_count": null,
   "metadata": {},
   "outputs": [],
   "source": []
  }
 ],
 "metadata": {
  "kernelspec": {
   "display_name": ".venv",
   "language": "python",
   "name": "python3"
  },
  "language_info": {
   "codemirror_mode": {
    "name": "ipython",
    "version": 3
   },
   "file_extension": ".py",
   "mimetype": "text/x-python",
   "name": "python",
   "nbconvert_exporter": "python",
   "pygments_lexer": "ipython3",
   "version": "3.10.1"
  },
  "orig_nbformat": 4
 },
 "nbformat": 4,
 "nbformat_minor": 2
}
